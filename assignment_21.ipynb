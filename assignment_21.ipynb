{
 "cells": [
  {
   "cell_type": "code",
   "execution_count": 1,
   "id": "2321a2ab-b2e4-4b85-8223-ab2dc1d5b446",
   "metadata": {},
   "outputs": [],
   "source": [
    "import datetime\n",
    "\n",
    "# add current date to the today.txt file\n",
    "file = open('today.txt','w')\n",
    "file.write(datetime.datetime.now().strftime(\"%d-%m-%Y\"))\n",
    "file.close()"
   ]
  },
  {
   "cell_type": "code",
   "execution_count": 2,
   "id": "3b02e6f8-a253-4311-a458-84bd955ae4f0",
   "metadata": {},
   "outputs": [
    {
     "name": "stdout",
     "output_type": "stream",
     "text": [
      "11-04-2023\n"
     ]
    }
   ],
   "source": [
    "#Read the text file today.txt into the string today_string\n",
    "f = open('today.txt','r')\n",
    "today_string = f.read()\n",
    "print(today_string)"
   ]
  },
  {
   "cell_type": "code",
   "execution_count": 3,
   "id": "f9b24057-370d-4ef9-af50-e5ecda732a7e",
   "metadata": {},
   "outputs": [
    {
     "name": "stdout",
     "output_type": "stream",
     "text": [
      "2023-04-11 00:00:00\n"
     ]
    }
   ],
   "source": [
    "#Parse the date from today_string.\n",
    "from datetime import datetime\n",
    "\n",
    "date = datetime.strptime(today_string, '%d-%m-%Y')\n",
    "print(date)"
   ]
  },
  {
   "cell_type": "code",
   "execution_count": 4,
   "id": "88d2070a-8183-479c-b7df-da210df5b5ae",
   "metadata": {},
   "outputs": [
    {
     "name": "stdout",
     "output_type": "stream",
     "text": [
      "README.md\n",
      "sample-code.ipynb\n",
      "boston_data.csv\n",
      "EDA_and_FE (1).ipynb\n",
      "Untitled3.ipynb\n",
      "Untitled1.ipynb\n",
      "boston_EDA.ipynb\n",
      "Untitled.ipynb\n",
      "today.txt\n",
      "Untitled2.ipynb\n",
      "Untitled.ipynb\n",
      "Untitled-checkpoint.ipynb\n",
      "packed-refs\n",
      "HEAD\n",
      "index\n",
      "config\n",
      "description\n",
      "HEAD\n",
      "main\n",
      "HEAD\n",
      "exclude\n",
      "pack-290036e657c294196be1b61a981e44da145e2135.pack\n",
      "pack-290036e657c294196be1b61a981e44da145e2135.idx\n",
      "pre-push.sample\n",
      "prepare-commit-msg.sample\n",
      "applypatch-msg.sample\n",
      "pre-applypatch.sample\n",
      "commit-msg.sample\n",
      "pre-rebase.sample\n",
      "pre-receive.sample\n",
      "update.sample\n",
      "fsmonitor-watchman.sample\n",
      "pre-merge-commit.sample\n",
      "pre-commit.sample\n",
      "push-to-checkout.sample\n",
      "post-update.sample\n",
      "main\n",
      "HEAD\n",
      "today-checkpoint.txt\n",
      "boston_EDA-checkpoint.ipynb\n",
      "Untitled1-checkpoint.ipynb\n",
      "Untitled2-checkpoint.ipynb\n",
      "Untitled3-checkpoint.ipynb\n",
      "Untitled-checkpoint.ipynb\n",
      "EDA_and_FE (1)-checkpoint.ipynb\n"
     ]
    }
   ],
   "source": [
    "#List the files in your current directory\n",
    "import os\n",
    "\n",
    "file_list = []\n",
    "for folders, subfolders, files in os.walk(os.getcwd()):\n",
    "    for f in files:\n",
    "        print(f)"
   ]
  },
  {
   "cell_type": "code",
   "execution_count": null,
   "id": "b6076882-93fa-4a28-a6f6-267eec59e098",
   "metadata": {},
   "outputs": [],
   "source": [
    "#Create a list of all of the files in your parent directory (minimum five files should be available)."
   ]
  },
  {
   "cell_type": "code",
   "execution_count": 5,
   "id": "3bdb1254-8c02-40c8-8776-47f5e6133e78",
   "metadata": {},
   "outputs": [
    {
     "name": "stdout",
     "output_type": "stream",
     "text": [
      "['README.md', 'sample-code.ipynb', 'boston_data.csv', 'file', 'EDA_and_FE (1).ipynb', '.git', 'Untitled3.ipynb', 'Untitled1.ipynb', 'boston_EDA.ipynb', 'Untitled.ipynb', '.ipynb_checkpoints', 'today.txt', 'Untitled2.ipynb']\n"
     ]
    }
   ],
   "source": [
    "file_list = os.listdir(os.getcwd())\n",
    "print(file_list)"
   ]
  },
  {
   "cell_type": "code",
   "execution_count": null,
   "id": "150a4b5b-1faa-42d8-a22a-32ac6864b772",
   "metadata": {},
   "outputs": [],
   "source": [
    "#Use multiprocessing to create three separate processes. Make each one wait a random number of seconds between one and five, print the current time, and then exit."
   ]
  },
  {
   "cell_type": "code",
   "execution_count": 6,
   "id": "f74fab3d-2cff-4f22-81cd-792b2616a9f8",
   "metadata": {},
   "outputs": [
    {
     "name": "stdout",
     "output_type": "stream",
     "text": [
      "process-1 start time: 2023-04-11 09:21:00.435065process-2 start time: 2023-04-11 09:21:00.505424\n",
      "process-3 start time: 2023-04-11 09:21:00.521208\n",
      "\n",
      "process-1 end time: 2023-04-11 09:21:02.567522\n",
      "process-2 end time: 2023-04-11 09:21:02.587130\n",
      "process-3 end time: 2023-04-11 09:21:03.618321\n"
     ]
    }
   ],
   "source": [
    "import time\n",
    "import datetime\n",
    "import multiprocessing\n",
    "import random\n",
    "\n",
    "\n",
    "def process_1():\n",
    "    print(f'process-1 start time: {datetime.datetime.now()}')\n",
    "    time.sleep(random.randint(1,5))\n",
    "    print(f'process-1 end time: {datetime.datetime.now()}')\n",
    "    \n",
    "def process_2():\n",
    "    print(f'process-2 start time: {datetime.datetime.now()}')\n",
    "    time.sleep(random.randint(1,5))\n",
    "    print(f'process-2 end time: {datetime.datetime.now()}')\n",
    "\n",
    "def process_3():\n",
    "    print(f'process-3 start time: {datetime.datetime.now()}')\n",
    "    time.sleep(random.randint(1,5))\n",
    "    print(f'process-3 end time: {datetime.datetime.now()}')\n",
    "    \n",
    "if __name__ == \"__main__\":    \n",
    "    p1 = multiprocessing.Process(target=process_1)\n",
    "    p2 = multiprocessing.Process(target=process_2)\n",
    "    p3 = multiprocessing.Process(target=process_3)\n",
    "\n",
    "    # start process\n",
    "    p1.start()\n",
    "    p2.start()\n",
    "    p3.start()"
   ]
  },
  {
   "cell_type": "code",
   "execution_count": null,
   "id": "3721eb82-514b-4ada-983c-0b6a4f125906",
   "metadata": {},
   "outputs": [],
   "source": [
    "#Create a date object of your day of birth."
   ]
  },
  {
   "cell_type": "code",
   "execution_count": 8,
   "id": "c3ab9e98-d0cc-4ddc-8db3-7af96c7dec81",
   "metadata": {},
   "outputs": [
    {
     "name": "stdout",
     "output_type": "stream",
     "text": [
      "1986-07-22 00:00:00\n",
      "<class 'datetime.datetime'>\n"
     ]
    }
   ],
   "source": [
    "import datetime\n",
    "\n",
    "dob = datetime.datetime.strptime('22/07/1986','%d/%m/%Y')\n",
    "\n",
    "print(dob)\n",
    "print(type(dob))"
   ]
  },
  {
   "cell_type": "code",
   "execution_count": null,
   "id": "8609a06f-d6a2-4cad-b734-3fa9d58f9001",
   "metadata": {},
   "outputs": [],
   "source": [
    "What day of the week was your day of birth?"
   ]
  }
 ],
 "metadata": {
  "kernelspec": {
   "display_name": "Python 3 (ipykernel)",
   "language": "python",
   "name": "python3"
  },
  "language_info": {
   "codemirror_mode": {
    "name": "ipython",
    "version": 3
   },
   "file_extension": ".py",
   "mimetype": "text/x-python",
   "name": "python",
   "nbconvert_exporter": "python",
   "pygments_lexer": "ipython3",
   "version": "3.10.6"
  }
 },
 "nbformat": 4,
 "nbformat_minor": 5
}
